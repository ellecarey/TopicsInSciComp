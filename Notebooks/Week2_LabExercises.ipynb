{
 "cells": [
  {
   "cell_type": "markdown",
   "id": "8677fe39",
   "metadata": {},
   "source": [
    "## Week 2 Lab exercises\n",
    "\n",
    "In this week we will use python to explore strange new worlds, to seek out new life and new civilisation, and to boldly code what no one has coded before. \n",
    "\n",
    "The goal is to familiarise yourself with using functions, loops, arrays and plotting in Python, and to illustrate some of the software carpentry points that we discussed in the lecture."
   ]
  },
  {
   "cell_type": "code",
   "execution_count": 1,
   "id": "0d8bde64",
   "metadata": {},
   "outputs": [],
   "source": [
    "# first we import the libraries we need\n",
    "import numpy as np\n",
    "import matplotlib.pyplot as plt\n",
    "\n",
    "# The following lines makes the plots appear in another window - if using AppsAnywhere they may appear\n",
    "# in another window behind the notebook, and you may have to rearrange the desktop to see them. However, \n",
    "# I've commented it out because it doesn't always work. You can try it if you have time.\n",
    "# %matplotlib \n",
    "\n",
    "# This makes the plots appear in the notebook\n",
    "%matplotlib inline"
   ]
  },
  {
   "cell_type": "markdown",
   "id": "2b399aad",
   "metadata": {},
   "source": [
    "### ACTIVITY 1: \n",
    "In the code below, change the line as marked (UPDATE ME) to get the asteroid data from the data file `asteroid_locations.dat` that is in the `/data` folder"
   ]
  },
  {
   "cell_type": "code",
   "execution_count": 2,
   "id": "2bceae51",
   "metadata": {},
   "outputs": [
    {
     "data": {
      "image/png": "[encoded data removed]",
      "text/plain": [
       "<Figure size 640x480 with 1 Axes>"
      ]
     },
     "metadata": {},
     "output_type": "display_data"
    }
   ],
   "source": [
    "# Set up the plotting\n",
    "\n",
    "def plot_asteroid_field(ax) :\n",
    "    plt.axis([0,10.5,-4,4])\n",
    "    major_ticks = np.arange(0, 11, 1)\n",
    "    ax.set_xticks(major_ticks)\n",
    "    plt.xlabel(\"time / x position\")\n",
    "    plt.ylabel(\"position\")\n",
    "    ax.set_aspect('equal')\n",
    "    ax.grid(which='major', alpha=0.8)\n",
    "\n",
    "    # Mark the asteroid positions onto the plot - read in the data from data/asteroid_locations.dat\n",
    "    # HINT: the function you need is called loadtxt\n",
    "    asteroid_locations = np.loadtxt('data/asteroid_locations.dat') \n",
    "    for location in asteroid_locations :\n",
    "        circle=plt.Circle(location, 0.5 , color='r')\n",
    "        ax.add_artist(circle)\n",
    "    #plt.pause(0.3)\n",
    "\n",
    "# Test the plot\n",
    "fig = plt.figure()\n",
    "ax = plt.gcf().gca()\n",
    "plot_asteroid_field(ax)\n",
    "plt.show()"
   ]
  },
  {
   "cell_type": "code",
   "execution_count": 3,
   "id": "0c6bb38e",
   "metadata": {},
   "outputs": [
    {
     "name": "stdout",
     "output_type": "stream",
     "text": [
      "The list of times at the start is  [ 0  1  2  3  4  5  6  7  8  9 10]\n",
      "The list of y positions at the start is  [0 0 0 0 0 0 0 0 0 0 0]\n"
     ]
    }
   ],
   "source": [
    "# set up a list to store the times and positions\n",
    "list_of_times = np.array([0, 1, 2, 3, 4, 5, 6, 7, 8, 9, 10])\n",
    "list_of_y_positions = np.zeros_like(list_of_times)\n",
    "\n",
    "# print off the initial values of the times and positions\n",
    "print(\"The list of times at the start is \", list_of_times)\n",
    "print(\"The list of y positions at the start is \", list_of_y_positions)"
   ]
  },
  {
   "cell_type": "markdown",
   "id": "03a04402",
   "metadata": {},
   "source": [
    "### ACTIVITY 2: \n",
    "\n",
    "Captain Katy has asked you to plot a flight path through the asteroid field. If you run the code below you will see that the path does not currently avoid the asteroids :-( Update it so that it does! \n",
    "\n",
    "Also update so that the distance moved is calculated, and try to minimise this.\n",
    "\n",
    "RULES:\n",
    "\n",
    "- Just like in a retro video game, the ship must move one step forward in the x direction at every timestep, and you can only change its movement in the y direction to avoid the asteroids.\n",
    "- You should move in whole steps in the (x and) y direction, so you are always on integer coordinates.\n",
    "- You must end the flight back at position y=0.\n",
    "- Don't hit the asteroids! Note that their radius is 0.5 of a distance unit, so it is not sufficient to simply avoid the coordinates on which they are centred.\n",
    "\n",
    "#### BUT FIRST\n",
    "\n",
    "Remember *defensive programming*? You will see that the code does not check that it does what it should - i.e., it does not check that we have not hit an asteroid, and that we return to the zero position at the last step. Implement tests to check the rules _BEFORE_ you implement the code to set the path, and use asserts to make it quit with an error message if it fails.\n",
    "\n",
    "*TIP: You probably want to write any tests as a separate function. Would it be better to call them at each step or just at the end?*"
   ]
  },
  {
   "cell_type": "code",
   "execution_count": 4,
   "id": "fd86eb90-1197-42de-ba94-4f57517ea75a",
   "metadata": {},
   "outputs": [],
   "source": [
    "# Rule 1 - move one step forward in the x direction at every timestep\n",
    "def test_constant_x_timestep(a_list_of_times) -> None:\n",
    "    assert all(np.diff(a_list_of_times) == np.diff(list_of_times)[0]), 'Steps in x do not = 1'\n",
    "\n",
    "# # tests \n",
    "# a_list_of_times = np.array([0, 1, 3, 4, 5, 6, 7, 8, 9]) # bad array\n",
    "# test_constant_x_timestep(a_list_of_times)\n",
    "\n",
    "# a_list_of_times = np.array([0, 1, 2, 3, 4, 5, 6, 7, 8, 9, 10]) # good array\n",
    "# test_constant_x_timestep(a_list_of_times)"
   ]
  },
  {
   "cell_type": "code",
   "execution_count": 5,
   "id": "5a439ee4-acdf-40ea-8910-489f17398030",
   "metadata": {},
   "outputs": [],
   "source": [
    "# Rule 2 - check integer step size\n",
    "def test_integer_step_size_y(a_list_of_y_positions) -> None:\n",
    "     assert (a_list_of_y_positions.dtype == 'int64'), 'Steps must be integer values'\n",
    "\n",
    "# # tests \n",
    "# a_list_of_y_positions = np.array([0.0, 0, 0, 0, 0, 0, 0, 0, 0, 0, 0]) # bad array\n",
    "# test_integer_step_size_y(a_list_of_y_positions)\n",
    "\n",
    "# a_list_of_y_positions = np.array([0, 0, 0, 0, 0, 0, 0, 0, 0, 0, 0]) # good array\n",
    "# test_integer_step_size_y(a_list_of_y_positions)"
   ]
  },
  {
   "cell_type": "code",
   "execution_count": 6,
   "id": "8cfa302b-d4d4-4ed8-a6d2-3581e4cdc61d",
   "metadata": {},
   "outputs": [],
   "source": [
    "# Rule 3 - end the flight at y = 0\n",
    "def test_final_y_position(a_list_of_y_positions) -> None:\n",
    "    assert (a_list_of_y_positions[-1] == 0), 'Final position of y must = 0'\n",
    "\n",
    "# tests \n",
    "# a_list_of_y_positions = np.array([0, 0, 0, 0, 0, 0, 0, 0, 0, 0, 1]) # bad array\n",
    "# test_final_y_position(a_list_of_y_positions)\n",
    "\n",
    "# a_list_of_y_positions = np.array([0, 0, 0, 0, 0, 0, 0, 0, 0, 0, 0]) # good array\n",
    "# test_final_y_position(a_list_of_y_positions)"
   ]
  },
  {
   "cell_type": "code",
   "execution_count": 7,
   "id": "b5a24d9b-ad91-4ce6-8959-39ee0a8995c9",
   "metadata": {},
   "outputs": [],
   "source": [
    "# Rule 4 - do not hit asteroids\n",
    "def test_asteroid_hit(a_list_times, a_list_of_y_positions) -> None:\n",
    "    asteroids = np.loadtxt('data/asteroid_locations.dat')\n",
    "    radius = 0.5\n",
    "\n",
    "    for i, asteroid in enumerate(asteroids) :\n",
    "        assert((a_position[0]-asteroid[0])**2 + (a_position[1]-asteroid[1])**2) >= (radius**2), 'Collided with asteroid!'\n",
    "        \n",
    "\n",
    "# # tests\n",
    "# a_position = [7.0, 2.0]\n",
    "# test_asteroid_hit(a_position) # bad co-ordinate\n",
    "\n",
    "# a_position = [5.0, 0.0]\n",
    "# test_asteroid_hit(a_position) # good co-ordinate"
   ]
  },
  {
   "cell_type": "code",
   "execution_count": 8,
   "id": "13bbe9ca",
   "metadata": {},
   "outputs": [
    {
     "ename": "TypeError",
     "evalue": "test_asteroid_hit() takes 1 positional argument but 2 were given",
     "output_type": "error",
     "traceback": [
      "\u001b[0;31m---------------------------------------------------------------------------\u001b[0m",
      "\u001b[0;31mTypeError\u001b[0m                                 Traceback (most recent call last)",
      "Cell \u001b[0;32mIn[8], line 43\u001b[0m\n\u001b[1;32m     41\u001b[0m     test_integer_step_size_y(list_of_y_positions)\n\u001b[1;32m     42\u001b[0m     test_final_y_position(list_of_y_positions)\n\u001b[0;32m---> 43\u001b[0m     \u001b[43mtest_asteroid_hit\u001b[49m\u001b[43m(\u001b[49m\u001b[43mlist_of_times\u001b[49m\u001b[43m,\u001b[49m\u001b[43m \u001b[49m\u001b[43mlist_of_y_positions\u001b[49m\u001b[43m)\u001b[49m\n\u001b[1;32m     45\u001b[0m end_time \u001b[38;5;241m=\u001b[39m time\u001b[38;5;241m.\u001b[39mtime()\n\u001b[1;32m     48\u001b[0m \u001b[38;5;28mprint\u001b[39m(\u001b[38;5;124m\"\u001b[39m\u001b[38;5;124mThe list of times at the end is \u001b[39m\u001b[38;5;124m\"\u001b[39m, list_of_times)\n",
      "\u001b[0;31mTypeError\u001b[0m: test_asteroid_hit() takes 1 positional argument but 2 were given"
     ]
    },
    {
     "data": {
      "image/png": "[encoded data removed]",
      "text/plain": [
       "<Figure size 640x480 with 1 Axes>"
      ]
     },
     "metadata": {},
     "output_type": "display_data"
    }
   ],
   "source": [
    "# Plot again the asteroid field, so that we can plot the path on top of it\n",
    "# plt.ion() # Make the plotting interactive so we can update the path as we fly\n",
    "fig = plt.figure()\n",
    "ax1 = plt.gcf().gca() #this stands for get current figure, get current axis\n",
    "plot_asteroid_field(ax1)\n",
    "\n",
    "# go through the list of times, where index is the index within the \n",
    "# list, and time_now is the entry at that index\n",
    "for index, time_now in enumerate(list_of_times) :\n",
    "    \n",
    "    # the list of things to do when at a certain time starts with an 'if'\n",
    "    # start with time is zero, we start at position 0\n",
    "    if time_now == 0 :\n",
    "        list_of_y_positions[index] = 0\n",
    "    \n",
    "    # alternative option denoted by 'elif' (= else if)\n",
    "    # ie, if the time is between 1 and 3\n",
    "    elif (time_now > 0 and time_now < 2) :\n",
    "        step_size = 1\n",
    "        # moving y position by the step size\n",
    "        list_of_y_positions[index] = list_of_y_positions[index - 1] + step_size\n",
    "        \n",
    "    # UPDATE ME!\n",
    "    # Add more else if options here to cover all the times you need to move the ship\n",
    "    # (Try to make this as minimal as possible, rather than writing one elif statement\n",
    "    # per time step)\n",
    "\n",
    "    # finally, give the default option for all other cases using 'else'\n",
    "    else :\n",
    "        # nothing happens at other times\n",
    "        step_size = 0\n",
    "        # moving y position by the step size\n",
    "        list_of_y_positions[index] = list_of_y_positions[index - 1] + step_size\n",
    "\n",
    "    position_now = list_of_y_positions[index]\n",
    "    plt.plot(time_now, position_now, 'o')\n",
    "    #plt.pause(0.3) # This pause just slows down the plotting so it looks nicer\n",
    "\n",
    "    # perform testing\n",
    "    test_constant_x_timestep(list_of_times)\n",
    "    test_integer_step_size_y(list_of_y_positions)\n",
    "    test_final_y_position(list_of_y_positions)\n",
    "    test_asteroid_hit(list_of_times, list_of_y_positions)\n",
    "\n",
    "end_time = time.time()\n",
    "\n",
    "\n",
    "print(\"The list of times at the end is \", list_of_times)\n",
    "print(\"The list of y positions at the end is \", list_of_y_positions)\n",
    "print(\"The time taken to plot the course was \", end_time - start_time, \" seconds\")\n",
    "\n",
    "plt.plot(list_of_times, list_of_y_positions, 'g-')\n",
    "plt.show()\n",
    "\n",
    "# Uncomment to save the figure\n",
    "# plt.savefig(\"flight_path.png\")\n",
    "\n",
    "# Print out some information\n",
    "total_distance_moved = 0 # UPDATE ME!\n",
    "print(\"I moved a total of \", total_distance_moved, \" units\")"
   ]
  },
  {
   "cell_type": "markdown",
   "id": "14b33155",
   "metadata": {},
   "source": [
    "### ACTIVITY 3:\n",
    "\n",
    "Now we are on an exploratory mission. Captian Katy wants you to plot a course for all of the blue (M or Minshara-class) planets on the map contained in `data/planet_locations.dat`, but not touching any of the other dangerous D-class pink planets. \n",
    "\n",
    "Again you need to update the code below to get the data from the data files.\n",
    "\n",
    "How could the read-in of the data (in particular checking of the class of the planet) be improved?"
   ]
  },
  {
   "cell_type": "code",
   "execution_count": null,
   "id": "7c8121ee",
   "metadata": {},
   "outputs": [],
   "source": [
    "# Plot the planetary locations\n",
    "\n",
    "def plot_planet_locations(ax) :\n",
    "    plt.axis([0,15.5,-4,4])\n",
    "    major_ticks = np.arange(0, 16, 1)\n",
    "    ax.set_xticks(major_ticks)\n",
    "    plt.xlabel(\"time / x position\")\n",
    "    plt.ylabel(\"position\")\n",
    "    ax.set_aspect('equal')\n",
    "    ax.grid(which='major', alpha=0.8)\n",
    "\n",
    "    # Mark the planet positions onto the plot - read in the data from data/planet_locations.dat\n",
    "    # HINT: the function you need is called loadtxt\n",
    "    planet_locations= np.array([[0,0,0], [0,0,0]]) # UPDATE ME!\n",
    "\n",
    "    for index, location in enumerate(planet_locations) :\n",
    "        is_minshara_class =  (location[2] == 1)\n",
    "        coordinates = np.array([location[0],location[1]])\n",
    "        if(is_minshara_class) :\n",
    "            circle=plt.Circle(coordinates, 0.5, color='b')\n",
    "            plt.gcf().gca().add_artist(circle)\n",
    "        else : # other planets are dangerous D class planets\n",
    "            circle=plt.Circle(coordinates, 0.5, color='m')\n",
    "            plt.gcf().gca().add_artist(circle)  \n",
    "\n",
    "# Test the plot\n",
    "fig = plt.figure()\n",
    "ax = plt.gcf().gca()\n",
    "plot_planet_locations(ax)\n",
    "plt.show()"
   ]
  },
  {
   "cell_type": "markdown",
   "id": "d787ce7d",
   "metadata": {},
   "source": [
    "### ACTIVITY 4:\n",
    "\n",
    "Update the code below to make sure you visit all the M class planets as your Captain has asked (same rules of motion as above). What is the shortest distance in which you can do this? Update the code to calculate your value.\n",
    "\n",
    "Again, you should _first write code that checks that the code does what it should_, and then implement the actual actions."
   ]
  },
  {
   "cell_type": "code",
   "execution_count": null,
   "id": "f9a6cc6f",
   "metadata": {},
   "outputs": [],
   "source": [
    "# Plot again the asteroid field, so that we can plot the path on top of it\n",
    "\n",
    "# Uncomment this to make the plotting interactive so we can update the path as we fly\n",
    "# Need to also uncomment the %matplotlib command in the first cell, and plot.pause() below\n",
    "# plt.ion()\n",
    "\n",
    "# Regular plotting stuff\n",
    "fig = plt.figure()\n",
    "ax = plt.gcf().gca()\n",
    "plot_planet_locations(ax)\n",
    "\n",
    "# set up a list to store the times and positions\n",
    "final_time = 15\n",
    "list_of_times = np.arange(final_time+1)\n",
    "list_of_y_positions = np.zeros_like(list_of_times)\n",
    "\n",
    "# we want to track how much we have moved during the simulation\n",
    "# so zero this\n",
    "total_distance_moved = 0\n",
    "\n",
    "# print off the initial values of the times and positions\n",
    "print(\"The list of times at the start is \", list_of_times)\n",
    "print(\"The list of positions at the start is \", list_of_y_positions)\n",
    "\n",
    "# go through the list of times, where index is the index within the \n",
    "# list, and time_now is the entry at that index\n",
    "for index, time_now in enumerate(list_of_times) :\n",
    "    \n",
    "    # the list of things to do when at a certain time starts with an 'if'\n",
    "    # start with time is zero, we start at position 0\n",
    "    if time_now == 0 :\n",
    "        list_of_y_positions[index] = 0\n",
    "    \n",
    "    # alternative option denoted by 'elif' (= else if)\n",
    "    elif (time_now > 0 and time_now < 2) :\n",
    "        step_size = 2\n",
    "        # moving y position by the step size\n",
    "        list_of_y_positions[index] = list_of_y_positions[index - 1] - step_size\n",
    "        \n",
    "    # UPDATE ME!\n",
    "    # Add more else if options here to cover all the times you need to move the ship\n",
    "    # (Try to make this as minimal as possible, rather than writing one elif statement\n",
    "    # per time step)\n",
    "\n",
    "    # finally, give the default option for all other cases using 'else'\n",
    "    else :\n",
    "        # nothing happens at other times\n",
    "        step_size = 0\n",
    "        list_of_y_positions[index] = list_of_y_positions[index - 1] + step_size\n",
    "\n",
    "    position_now = list_of_y_positions[index]\n",
    "    plt.plot(time_now, position_now, 'o')\n",
    "    # Uncomment this for interactive version\n",
    "    # plt.pause(0.4)\n",
    "\n",
    "print(\"The list of times at the end is \", list_of_times)\n",
    "print(\"The list of positions at the end is \", list_of_y_positions)\n",
    "\n",
    "plt.plot(list_of_times, list_of_y_positions, 'g-')\n",
    "plt.show()\n",
    "\n",
    "# Uncomment to save the figure\n",
    "#plt.savefig(\"myplot2.png\")\n",
    "\n",
    "# Calculate and print out some information\n",
    "total_distance_moved = 0\n",
    "print(\"I moved a total of \", total_distance_moved, \" units\")"
   ]
  },
  {
   "cell_type": "markdown",
   "id": "fc8f692b",
   "metadata": {},
   "source": [
    "### ACTIVITY 5:\n",
    "\n",
    "Which software carpentry features are already implemented?"
   ]
  },
  {
   "cell_type": "markdown",
   "id": "d716d404",
   "metadata": {},
   "source": [
    "1. There are comments to help the reader know what is happening...\n",
    "2. UPDATE ME\n",
    "3. ...\n",
    "\n"
   ]
  },
  {
   "cell_type": "markdown",
   "id": "89916b20",
   "metadata": {},
   "source": [
    "### ACTIVITY 6:\n",
    "\n",
    "*Timing*: the code is very short but it is still useful to time the `for` loop to see how long it is taking and understand how it could be optimised. Add something that returns the time taken for it to run. Change the pause time for the plotting and check that the time to run changes appropriately. (I would just google \"how to time function in python\")."
   ]
  },
  {
   "cell_type": "markdown",
   "id": "058d6f9b",
   "metadata": {},
   "source": [
    "### ACTIVITY 7:\n",
    "\n",
    "Suggest other ways to improve the code. Free to use your imagination and suggest major changes (you don't need to implement them unless you want to)."
   ]
  },
  {
   "cell_type": "markdown",
   "id": "dce67f18",
   "metadata": {},
   "source": [
    "1. UPDATE ME\n",
    "2. ...\n",
    "\n"
   ]
  }
 ],
 "metadata": {
  "kernelspec": {
   "display_name": "Python 3 (ipykernel)",
   "language": "python",
   "name": "python3"
  },
  "language_info": {
   "codemirror_mode": {
    "name": "ipython",
    "version": 3
   },
   "file_extension": ".py",
   "mimetype": "text/x-python",
   "name": "python",
   "nbconvert_exporter": "python",
   "pygments_lexer": "ipython3",
   "version": "3.12.6"
  }
 },
 "nbformat": 4,
 "nbformat_minor": 5
}
